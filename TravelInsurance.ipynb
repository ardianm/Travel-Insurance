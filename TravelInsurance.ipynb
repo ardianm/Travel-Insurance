{
 "cells": [
  {
   "cell_type": "markdown",
   "id": "a57ec245-8f8c-47e5-b3eb-ab26594fee8b",
   "metadata": {},
   "source": [
    "Business Problem\n",
    "-"
   ]
  },
  {
   "cell_type": "markdown",
   "id": "06409247-bc25-4823-8f4b-49b9c48181ab",
   "metadata": {},
   "source": [
    "Model ML pada studi kasus travel insurance ini nantinya bisa digunakan oleh perusahaan untuk memprediksi, \n",
    "berdasarkan fitur-fitur, pemegang polis seperti apa yang akan mengajukan klaim. Hal ini penting karena dari prediksi tersebut perusahaan dapat mengelelola risiko terhadap keuangan perusahaan seperti penentuan penyediaan budget untuk asuransi-asuransi yang diklaim, penentuan pricing produk-produk asuransi, pendeteksian fraud, dan lain-lain sehingga perusahaan akan lebih sustain.\n",
    "\n",
    "Suatu studi kasus, kolaborasi antara perusahaan asuransi Brasil dan Actdigital.com menjelaskan bagaimana perusahaan asuransi tersebut menggunakan analisis prediktif untuk mencegah klaim yang tidak tepat dan menghemat BRL 16,6 juta (~USD 3,3 juta) di tahun pertama. Sedikit penurunan klaim yang terlewat dapat menghemat bahkan jutaan dolar dalam pembayaran. Dapat dibayangkan jika yang terjadi sebaliknya bahwa perusahaan mengizinkan klaim yang tidak tepat, tentu perusahaan akan mengalami kerugian dan menjadi masalah besar terhadap keuangan mereka.\n",
    "\n",
    "Selain menghindari kerugian, Pricing polis juga terbantu dengan mampu menentukannya berdasarkan profil pelanggan yang terperinci secara real-time. Contohnya segmen pelanggan berisiko tinggi (seperti perjalanan jauh dengan harga premium) yang dapat dikenakan premi lebih tinggi atau memerlukan underwriting tambahan. \n",
    "\n",
    "Pemodelan ML yang tepat dapat menghasilkan biaya yang lebih rendah dan produk yang lebih inovatif sehingga meningkatkan profitabilitas perusahaan."
   ]
  },
  {
   "cell_type": "markdown",
   "id": "80af32a3-76e0-4439-8e73-f5082591f497",
   "metadata": {},
   "source": [
    "Data Understanding\n",
    "-"
   ]
  },
  {
   "cell_type": "code",
   "execution_count": 79,
   "id": "c025d098-ed3c-4216-be73-ef6f2d7b18d7",
   "metadata": {},
   "outputs": [
    {
     "data": {
      "text/html": [
       "<div>\n",
       "<style scoped>\n",
       "    .dataframe tbody tr th:only-of-type {\n",
       "        vertical-align: middle;\n",
       "    }\n",
       "\n",
       "    .dataframe tbody tr th {\n",
       "        vertical-align: top;\n",
       "    }\n",
       "\n",
       "    .dataframe thead th {\n",
       "        text-align: right;\n",
       "    }\n",
       "</style>\n",
       "<table border=\"1\" class=\"dataframe\">\n",
       "  <thead>\n",
       "    <tr style=\"text-align: right;\">\n",
       "      <th></th>\n",
       "      <th>Agency</th>\n",
       "      <th>Agency Type</th>\n",
       "      <th>Distribution Channel</th>\n",
       "      <th>Product Name</th>\n",
       "      <th>Gender</th>\n",
       "      <th>Duration</th>\n",
       "      <th>Destination</th>\n",
       "      <th>Net Sales</th>\n",
       "      <th>Commision (in value)</th>\n",
       "      <th>Age</th>\n",
       "      <th>Claim</th>\n",
       "    </tr>\n",
       "  </thead>\n",
       "  <tbody>\n",
       "    <tr>\n",
       "      <th>0</th>\n",
       "      <td>C2B</td>\n",
       "      <td>Airlines</td>\n",
       "      <td>Online</td>\n",
       "      <td>Annual Silver Plan</td>\n",
       "      <td>F</td>\n",
       "      <td>365</td>\n",
       "      <td>SINGAPORE</td>\n",
       "      <td>216.0</td>\n",
       "      <td>54.0</td>\n",
       "      <td>57</td>\n",
       "      <td>No</td>\n",
       "    </tr>\n",
       "    <tr>\n",
       "      <th>1</th>\n",
       "      <td>EPX</td>\n",
       "      <td>Travel Agency</td>\n",
       "      <td>Online</td>\n",
       "      <td>Cancellation Plan</td>\n",
       "      <td>NaN</td>\n",
       "      <td>4</td>\n",
       "      <td>MALAYSIA</td>\n",
       "      <td>10.0</td>\n",
       "      <td>0.0</td>\n",
       "      <td>33</td>\n",
       "      <td>No</td>\n",
       "    </tr>\n",
       "    <tr>\n",
       "      <th>2</th>\n",
       "      <td>JZI</td>\n",
       "      <td>Airlines</td>\n",
       "      <td>Online</td>\n",
       "      <td>Basic Plan</td>\n",
       "      <td>M</td>\n",
       "      <td>19</td>\n",
       "      <td>INDIA</td>\n",
       "      <td>22.0</td>\n",
       "      <td>7.7</td>\n",
       "      <td>26</td>\n",
       "      <td>No</td>\n",
       "    </tr>\n",
       "    <tr>\n",
       "      <th>3</th>\n",
       "      <td>EPX</td>\n",
       "      <td>Travel Agency</td>\n",
       "      <td>Online</td>\n",
       "      <td>2 way Comprehensive Plan</td>\n",
       "      <td>NaN</td>\n",
       "      <td>20</td>\n",
       "      <td>UNITED STATES</td>\n",
       "      <td>112.0</td>\n",
       "      <td>0.0</td>\n",
       "      <td>59</td>\n",
       "      <td>No</td>\n",
       "    </tr>\n",
       "    <tr>\n",
       "      <th>4</th>\n",
       "      <td>C2B</td>\n",
       "      <td>Airlines</td>\n",
       "      <td>Online</td>\n",
       "      <td>Bronze Plan</td>\n",
       "      <td>M</td>\n",
       "      <td>8</td>\n",
       "      <td>SINGAPORE</td>\n",
       "      <td>16.0</td>\n",
       "      <td>4.0</td>\n",
       "      <td>28</td>\n",
       "      <td>No</td>\n",
       "    </tr>\n",
       "  </tbody>\n",
       "</table>\n",
       "</div>"
      ],
      "text/plain": [
       "  Agency    Agency Type Distribution Channel              Product Name Gender  \\\n",
       "0    C2B       Airlines               Online        Annual Silver Plan      F   \n",
       "1    EPX  Travel Agency               Online         Cancellation Plan    NaN   \n",
       "2    JZI       Airlines               Online                Basic Plan      M   \n",
       "3    EPX  Travel Agency               Online  2 way Comprehensive Plan    NaN   \n",
       "4    C2B       Airlines               Online               Bronze Plan      M   \n",
       "\n",
       "   Duration    Destination  Net Sales  Commision (in value)  Age Claim  \n",
       "0       365      SINGAPORE      216.0                  54.0   57    No  \n",
       "1         4       MALAYSIA       10.0                   0.0   33    No  \n",
       "2        19          INDIA       22.0                   7.7   26    No  \n",
       "3        20  UNITED STATES      112.0                   0.0   59    No  \n",
       "4         8      SINGAPORE       16.0                   4.0   28    No  "
      ]
     },
     "execution_count": 79,
     "metadata": {},
     "output_type": "execute_result"
    }
   ],
   "source": [
    "import pandas as pd\n",
    "\n",
    "df = pd.read_csv('data_travel_insurance.csv')\n",
    "df.head()"
   ]
  },
  {
   "cell_type": "code",
   "execution_count": 80,
   "id": "5e6a583e-38b8-47e1-9cdc-948b8acb7afb",
   "metadata": {},
   "outputs": [
    {
     "name": "stdout",
     "output_type": "stream",
     "text": [
      "<class 'pandas.core.frame.DataFrame'>\n",
      "RangeIndex: 44328 entries, 0 to 44327\n",
      "Data columns (total 11 columns):\n",
      " #   Column                Non-Null Count  Dtype  \n",
      "---  ------                --------------  -----  \n",
      " 0   Agency                44328 non-null  object \n",
      " 1   Agency Type           44328 non-null  object \n",
      " 2   Distribution Channel  44328 non-null  object \n",
      " 3   Product Name          44328 non-null  object \n",
      " 4   Gender                12681 non-null  object \n",
      " 5   Duration              44328 non-null  int64  \n",
      " 6   Destination           44328 non-null  object \n",
      " 7   Net Sales             44328 non-null  float64\n",
      " 8   Commision (in value)  44328 non-null  float64\n",
      " 9   Age                   44328 non-null  int64  \n",
      " 10  Claim                 44328 non-null  object \n",
      "dtypes: float64(2), int64(2), object(7)\n",
      "memory usage: 3.7+ MB\n"
     ]
    }
   ],
   "source": [
    "df.info()"
   ]
  },
  {
   "cell_type": "markdown",
   "id": "1ef61c21-6d3b-4e72-aad4-997b993e533e",
   "metadata": {},
   "source": [
    "Terdapat 4 data numerikal dan 7 data kategorikal yang terdiri dari:\n",
    "\n",
    "Data Numerikal\n",
    "- Duration : Lama perjalanan\n",
    "- Net Sales : Jumlah sales dari polis asuransi\n",
    "- Commision (in value) : Komisi yang didapatkan agency\n",
    "- Age : Usia pemegang polis asuransi\n",
    "\n",
    "Data Kategorikal\n",
    "- Agency : Nama agensi\n",
    "- Agency Type : Tipe agensi \n",
    "- Distribution Channel : Channel yang digunakan untuk menjual asuransi\n",
    "- Product Name : Nama produk asuransi\n",
    "- Gender : Jenis kelamin pemegang polis\n",
    "- Destination : Tujuan perjalanan\n",
    "- Claim : Status klaim apakah diajukan atau tidak\n",
    "\n",
    "Data tersebut baik untuk mentraining suatu model klasifikasi untuk memprediksi claim"
   ]
  },
  {
   "cell_type": "markdown",
   "id": "2c1b3a46-a052-4110-b47b-b25cc1135aaa",
   "metadata": {},
   "source": [
    "Data Cleaning\n",
    "-"
   ]
  },
  {
   "cell_type": "code",
   "execution_count": 81,
   "id": "06431969-d884-4ff8-94e7-b935ab505593",
   "metadata": {},
   "outputs": [
    {
     "data": {
      "text/plain": [
       "4667"
      ]
     },
     "execution_count": 81,
     "metadata": {},
     "output_type": "execute_result"
    }
   ],
   "source": [
    "df.duplicated().sum()"
   ]
  },
  {
   "cell_type": "code",
   "execution_count": 82,
   "id": "fae5669b-fbb4-4071-8157-998ebc3c17b6",
   "metadata": {},
   "outputs": [],
   "source": [
    "df.drop_duplicates(inplace=True)"
   ]
  },
  {
   "cell_type": "markdown",
   "id": "0756ae4c-d8ed-4b3e-ae37-60430556c2ac",
   "metadata": {},
   "source": [
    "Data duplikat dihapus agar data lebih valid dan meningkatkan keandalan dari hasil pemodelan"
   ]
  },
  {
   "cell_type": "code",
   "execution_count": 84,
   "id": "2acb3ae9-ec2e-482d-8cfe-738cebc31d40",
   "metadata": {},
   "outputs": [
    {
     "data": {
      "text/plain": [
       "Gender                  27667\n",
       "Agency                      0\n",
       "Agency Type                 0\n",
       "Distribution Channel        0\n",
       "Product Name                0\n",
       "Duration                    0\n",
       "Destination                 0\n",
       "Net Sales                   0\n",
       "Commision (in value)        0\n",
       "Age                         0\n",
       "Claim                       0\n",
       "dtype: int64"
      ]
     },
     "execution_count": 84,
     "metadata": {},
     "output_type": "execute_result"
    }
   ],
   "source": [
    "df.isnull().sum().sort_values(ascending=False)"
   ]
  },
  {
   "cell_type": "code",
   "execution_count": 85,
   "id": "59f5693e-b75c-48c5-9f08-4bf40c093bc0",
   "metadata": {},
   "outputs": [
    {
     "name": "stdout",
     "output_type": "stream",
     "text": [
      "69.76%\n"
     ]
    }
   ],
   "source": [
    "misval=df['Gender'].isna().sum()\n",
    "totalrows=len(df)\n",
    "percentmis=(misval/totalrows)*100\n",
    "print(f\"{percentmis:.2f}%\")"
   ]
  },
  {
   "cell_type": "markdown",
   "id": "e3bd3085-c0fd-4f80-afe6-2b782d1ace23",
   "metadata": {},
   "source": [
    "Persentase rows dengan missing value pada gender mencapai lebih dari 60% sehingga handling tidak dilakukan dengan\n",
    "mendrop"
   ]
  },
  {
   "cell_type": "code",
   "execution_count": 86,
   "id": "cd22e60a-afa8-470b-a5c2-5a4179eaa299",
   "metadata": {},
   "outputs": [
    {
     "data": {
      "text/plain": [
       "Gender\n",
       "M    0.50642\n",
       "F    0.49358\n",
       "Name: proportion, dtype: float64"
      ]
     },
     "execution_count": 86,
     "metadata": {},
     "output_type": "execute_result"
    }
   ],
   "source": [
    "df['Gender'].value_counts(normalize=True)"
   ]
  },
  {
   "cell_type": "markdown",
   "id": "f71e940c-7003-4c7e-a2c1-25a6cb39ead8",
   "metadata": {},
   "source": [
    "Karena proporsi gender male dan female hampir sama, maka dilakukan impute dengan random sampling untuk\n",
    "mempertahankan angka proporsi"
   ]
  },
  {
   "cell_type": "code",
   "execution_count": 87,
   "id": "bbab8931-ace0-4090-a841-0796eed601b0",
   "metadata": {},
   "outputs": [],
   "source": [
    "import numpy as np\n",
    "\n",
    "# Calculate proportions\n",
    "gender_probs = df['Gender'].value_counts(normalize=True)\n",
    "\n",
    "# Randomly assign missing values based on observed distribution\n",
    "df.loc[df['Gender'].isna(), 'Gender'] = np.random.choice(\n",
    "    gender_probs.index,\n",
    "    size=df['Gender'].isna().sum(),\n",
    "    p=gender_probs.values\n",
    ")"
   ]
  },
  {
   "cell_type": "code",
   "execution_count": 88,
   "id": "8428500f-bd55-4f74-89ae-f8f6a63e5ee9",
   "metadata": {},
   "outputs": [
    {
     "data": {
      "text/plain": [
       "Gender\n",
       "M    0.505812\n",
       "F    0.494188\n",
       "Name: proportion, dtype: float64"
      ]
     },
     "execution_count": 88,
     "metadata": {},
     "output_type": "execute_result"
    }
   ],
   "source": [
    "df['Gender'].value_counts(normalize=True)"
   ]
  },
  {
   "cell_type": "code",
   "execution_count": 89,
   "id": "ba780f61-c314-4646-a83b-40ef17bdb957",
   "metadata": {},
   "outputs": [
    {
     "data": {
      "text/html": [
       "<div>\n",
       "<style scoped>\n",
       "    .dataframe tbody tr th:only-of-type {\n",
       "        vertical-align: middle;\n",
       "    }\n",
       "\n",
       "    .dataframe tbody tr th {\n",
       "        vertical-align: top;\n",
       "    }\n",
       "\n",
       "    .dataframe thead th {\n",
       "        text-align: right;\n",
       "    }\n",
       "</style>\n",
       "<table border=\"1\" class=\"dataframe\">\n",
       "  <thead>\n",
       "    <tr style=\"text-align: right;\">\n",
       "      <th></th>\n",
       "      <th>Duration</th>\n",
       "      <th>Net Sales</th>\n",
       "      <th>Commision (in value)</th>\n",
       "      <th>Age</th>\n",
       "    </tr>\n",
       "  </thead>\n",
       "  <tbody>\n",
       "    <tr>\n",
       "      <th>count</th>\n",
       "      <td>39661.000000</td>\n",
       "      <td>39661.000000</td>\n",
       "      <td>39661.000000</td>\n",
       "      <td>39661.000000</td>\n",
       "    </tr>\n",
       "    <tr>\n",
       "      <th>mean</th>\n",
       "      <td>52.397822</td>\n",
       "      <td>42.342794</td>\n",
       "      <td>10.442622</td>\n",
       "      <td>39.930284</td>\n",
       "    </tr>\n",
       "    <tr>\n",
       "      <th>std</th>\n",
       "      <td>113.542824</td>\n",
       "      <td>50.025244</td>\n",
       "      <td>20.355921</td>\n",
       "      <td>13.526346</td>\n",
       "    </tr>\n",
       "    <tr>\n",
       "      <th>min</th>\n",
       "      <td>-1.000000</td>\n",
       "      <td>-357.500000</td>\n",
       "      <td>0.000000</td>\n",
       "      <td>0.000000</td>\n",
       "    </tr>\n",
       "    <tr>\n",
       "      <th>25%</th>\n",
       "      <td>11.000000</td>\n",
       "      <td>19.000000</td>\n",
       "      <td>0.000000</td>\n",
       "      <td>34.000000</td>\n",
       "    </tr>\n",
       "    <tr>\n",
       "      <th>50%</th>\n",
       "      <td>25.000000</td>\n",
       "      <td>29.000000</td>\n",
       "      <td>0.000000</td>\n",
       "      <td>36.000000</td>\n",
       "    </tr>\n",
       "    <tr>\n",
       "      <th>75%</th>\n",
       "      <td>57.000000</td>\n",
       "      <td>50.000000</td>\n",
       "      <td>11.880000</td>\n",
       "      <td>45.000000</td>\n",
       "    </tr>\n",
       "    <tr>\n",
       "      <th>max</th>\n",
       "      <td>4881.000000</td>\n",
       "      <td>810.000000</td>\n",
       "      <td>283.500000</td>\n",
       "      <td>118.000000</td>\n",
       "    </tr>\n",
       "  </tbody>\n",
       "</table>\n",
       "</div>"
      ],
      "text/plain": [
       "           Duration     Net Sales  Commision (in value)           Age\n",
       "count  39661.000000  39661.000000          39661.000000  39661.000000\n",
       "mean      52.397822     42.342794             10.442622     39.930284\n",
       "std      113.542824     50.025244             20.355921     13.526346\n",
       "min       -1.000000   -357.500000              0.000000      0.000000\n",
       "25%       11.000000     19.000000              0.000000     34.000000\n",
       "50%       25.000000     29.000000              0.000000     36.000000\n",
       "75%       57.000000     50.000000             11.880000     45.000000\n",
       "max     4881.000000    810.000000            283.500000    118.000000"
      ]
     },
     "execution_count": 89,
     "metadata": {},
     "output_type": "execute_result"
    }
   ],
   "source": [
    "df.describe()"
   ]
  },
  {
   "cell_type": "markdown",
   "id": "1fff0b8e-21a3-41b9-ad3b-2d713887fc98",
   "metadata": {},
   "source": [
    "Features yang akan dihandling\n",
    "- Duration : Teradapat nilai minimum -1 dan maximum 4881 hari (Syarat pemegang polis tidak boleh > 180 hari)\n",
    "- Net Sales : Terdapat nilai < 0\n",
    "- Age : Terdapat value diatas 100"
   ]
  },
  {
   "cell_type": "code",
   "execution_count": 90,
   "id": "fb264a6d-d4af-41b0-86d9-35f5c085720a",
   "metadata": {},
   "outputs": [],
   "source": [
    "# Handling duration\n",
    "\n",
    "df = df[(df['Duration'] > 0) & (df['Duration'] <= 180)]"
   ]
  },
  {
   "cell_type": "code",
   "execution_count": 91,
   "id": "4ad7fd97-4d97-49e8-bc18-aa2d345717a0",
   "metadata": {},
   "outputs": [],
   "source": [
    "# Handling net sales\n",
    "\n",
    "df = df[df[\"Net Sales\"] > 0]"
   ]
  },
  {
   "cell_type": "code",
   "execution_count": 92,
   "id": "7022a60f-02dd-41a7-b54e-1a3dc0488b69",
   "metadata": {},
   "outputs": [],
   "source": [
    "# Handling Age > 100\n",
    "\n",
    "df = df[df[\"Age\"] < 100]"
   ]
  },
  {
   "cell_type": "markdown",
   "id": "559d7e92-b144-4c63-bd34-57f40b92faf5",
   "metadata": {},
   "source": [
    "Feature Engineering\n",
    "-"
   ]
  },
  {
   "cell_type": "code",
   "execution_count": 93,
   "id": "cfa98ee1-0391-425f-8ddd-437fea3542f2",
   "metadata": {},
   "outputs": [],
   "source": [
    "df['Claim'] = df['Claim'].map({'No': 0, 'Yes': 1})\n",
    "\n",
    "df['Duration_Group'] = pd.cut(df['Duration'], \n",
    "                             bins=[0, 7, 14, 30, 90, 365],\n",
    "                             labels=['0-7', '8-14', '15-30', '31-90', '91-365'])\n",
    "\n",
    "df['Age_Group'] = pd.cut(df['Age'],\n",
    "                        bins=[0, 18, 30, 50, 70, 100],\n",
    "                        labels=['0-18', '19-30', '31-50', '51-70', '71-100'])"
   ]
  },
  {
   "cell_type": "markdown",
   "id": "c1473c48-4456-4ffb-bcbb-6eeecec3afa2",
   "metadata": {},
   "source": [
    "Modelling\n",
    "-"
   ]
  },
  {
   "cell_type": "code",
   "execution_count": 94,
   "id": "20673c15-63ca-4062-92d3-7c41b9a999e5",
   "metadata": {},
   "outputs": [],
   "source": [
    "from sklearn.preprocessing import OneHotEncoder, StandardScaler\n",
    "from sklearn.compose import ColumnTransformer\n",
    "from sklearn.pipeline import Pipeline\n",
    "\n",
    "# Separate features and target\n",
    "X = df.drop('Claim', axis=1)\n",
    "y = df['Claim']\n",
    "\n",
    "# Define categorical and numerical features\n",
    "categorical_features = ['Agency', 'Agency Type', 'Distribution Channel', \n",
    "                       'Product Name', 'Gender', 'Destination', \n",
    "                       'Duration_Group', 'Age_Group']\n",
    "numerical_features = ['Duration', 'Net Sales', 'Commision (in value)', \n",
    "                     'Age']\n",
    "\n",
    "# Create preprocessing pipeline\n",
    "preprocessor = ColumnTransformer(\n",
    "    transformers=[\n",
    "        ('num', StandardScaler(), numerical_features),\n",
    "        ('cat', OneHotEncoder(handle_unknown='ignore'), categorical_features)\n",
    "    ])"
   ]
  },
  {
   "cell_type": "code",
   "execution_count": 95,
   "id": "00a905b4-9576-4a51-b7ec-0698793929a6",
   "metadata": {},
   "outputs": [],
   "source": [
    "from sklearn.model_selection import train_test_split\n",
    "\n",
    "X_train, X_test, y_train, y_test = train_test_split(\n",
    "    X, y, test_size=0.2, random_state=42, stratify=y)"
   ]
  },
  {
   "cell_type": "code",
   "execution_count": 65,
   "id": "1a6508fa-e863-47d4-a137-bcc8d99433ce",
   "metadata": {},
   "outputs": [
    {
     "name": "stdout",
     "output_type": "stream",
     "text": [
      "Baseline Model Performance:\n",
      "              precision    recall  f1-score   support\n",
      "\n",
      "           0       0.99      0.77      0.87      6967\n",
      "           1       0.04      0.69      0.08       104\n",
      "\n",
      "    accuracy                           0.77      7071\n",
      "   macro avg       0.52      0.73      0.48      7071\n",
      "weighted avg       0.98      0.77      0.86      7071\n",
      "\n",
      "ROC AUC: 0.7803270362478055\n",
      "\n",
      "Confusion Matrix:\n",
      "[[5377 1590]\n",
      " [  32   72]]\n"
     ]
    }
   ],
   "source": [
    "from sklearn.linear_model import LogisticRegression\n",
    "from sklearn.metrics import classification_report, confusion_matrix, roc_auc_score\n",
    "\n",
    "# Create pipeline with preprocessing and model\n",
    "baseline_model = Pipeline([\n",
    "    ('preprocessor', preprocessor),\n",
    "    ('classifier', LogisticRegression(\n",
    "        class_weight='balanced',\n",
    "        random_state=42,\n",
    "        max_iter=1000,          # Increased from default 100\n",
    "        solver='lbfgs',         # Default solver (good for most cases)\n",
    "        tol=1e-3                # Slightly relaxed convergence tolerance\n",
    "    ))\n",
    "])\n",
    "\n",
    "# Train and evaluate\n",
    "baseline_model.fit(X_train, y_train)\n",
    "y_pred = baseline_model.predict(X_test)\n",
    "\n",
    "print(\"Baseline Model Performance:\")\n",
    "print(classification_report(y_test, y_pred))\n",
    "print(\"ROC AUC:\", roc_auc_score(y_test, baseline_model.predict_proba(X_test)[:, 1]))\n",
    "print(\"\\nConfusion Matrix:\")\n",
    "print(confusion_matrix(y_test, y_pred))"
   ]
  },
  {
   "cell_type": "code",
   "execution_count": 96,
   "id": "fc059136-9a8b-4a77-8765-d76eab3f24ea",
   "metadata": {},
   "outputs": [
    {
     "data": {
      "text/plain": [
       "Claim\n",
       "0    0.985292\n",
       "1    0.014708\n",
       "Name: proportion, dtype: float64"
      ]
     },
     "execution_count": 96,
     "metadata": {},
     "output_type": "execute_result"
    }
   ],
   "source": [
    "df[\"Claim\"].value_counts(normalize=True)"
   ]
  },
  {
   "cell_type": "markdown",
   "id": "72570c39-f6dc-4267-a42e-b9bbda515203",
   "metadata": {},
   "source": [
    "Terlihat bahwa proporsi claim (Yes=1) jauh\n",
    "lebih sedikit (imbalance). Berdasarkan business problem bahwa suatu perusahaan travel insurance bisa sangat \n",
    "dirugikan jika melakukan claim dengan tidak tepat maka model yang nantinya akan dibuat difokuskan untuk mendapat\n",
    "recall rate yang baik untuk dapat mendeteksi positive class (claim = 'Yes'/1)"
   ]
  },
  {
   "cell_type": "code",
   "execution_count": 55,
   "id": "3b45e832-09fa-4aa9-8d06-0080610aa6e9",
   "metadata": {},
   "outputs": [
    {
     "name": "stderr",
     "output_type": "stream",
     "text": [
      "C:\\Users\\marka\\anaconda3\\Lib\\site-packages\\sklearn\\linear_model\\_logistic.py:465: ConvergenceWarning: lbfgs failed to converge (status=1):\n",
      "STOP: TOTAL NO. of ITERATIONS REACHED LIMIT.\n",
      "\n",
      "Increase the number of iterations (max_iter) or scale the data as shown in:\n",
      "    https://scikit-learn.org/stable/modules/preprocessing.html\n",
      "Please also refer to the documentation for alternative solver options:\n",
      "    https://scikit-learn.org/stable/modules/linear_model.html#logistic-regression\n",
      "  n_iter_i = _check_optimize_result(\n"
     ]
    },
    {
     "name": "stdout",
     "output_type": "stream",
     "text": [
      "\n",
      "Weights {0: 1, 1: 10}:\n",
      "              precision    recall  f1-score   support\n",
      "\n",
      "           0       0.99      0.75      0.85      6967\n",
      "           1       0.04      0.72      0.08       104\n",
      "\n",
      "    accuracy                           0.74      7071\n",
      "   macro avg       0.52      0.73      0.46      7071\n",
      "weighted avg       0.98      0.74      0.84      7071\n",
      "\n"
     ]
    },
    {
     "name": "stderr",
     "output_type": "stream",
     "text": [
      "C:\\Users\\marka\\anaconda3\\Lib\\site-packages\\sklearn\\linear_model\\_logistic.py:465: ConvergenceWarning: lbfgs failed to converge (status=1):\n",
      "STOP: TOTAL NO. of ITERATIONS REACHED LIMIT.\n",
      "\n",
      "Increase the number of iterations (max_iter) or scale the data as shown in:\n",
      "    https://scikit-learn.org/stable/modules/preprocessing.html\n",
      "Please also refer to the documentation for alternative solver options:\n",
      "    https://scikit-learn.org/stable/modules/linear_model.html#logistic-regression\n",
      "  n_iter_i = _check_optimize_result(\n"
     ]
    },
    {
     "name": "stdout",
     "output_type": "stream",
     "text": [
      "\n",
      "Weights {0: 1, 1: 25}:\n",
      "              precision    recall  f1-score   support\n",
      "\n",
      "           0       0.99      0.75      0.85      6967\n",
      "           1       0.04      0.72      0.08       104\n",
      "\n",
      "    accuracy                           0.74      7071\n",
      "   macro avg       0.52      0.73      0.46      7071\n",
      "weighted avg       0.98      0.74      0.84      7071\n",
      "\n"
     ]
    },
    {
     "name": "stderr",
     "output_type": "stream",
     "text": [
      "C:\\Users\\marka\\anaconda3\\Lib\\site-packages\\sklearn\\linear_model\\_logistic.py:465: ConvergenceWarning: lbfgs failed to converge (status=1):\n",
      "STOP: TOTAL NO. of ITERATIONS REACHED LIMIT.\n",
      "\n",
      "Increase the number of iterations (max_iter) or scale the data as shown in:\n",
      "    https://scikit-learn.org/stable/modules/preprocessing.html\n",
      "Please also refer to the documentation for alternative solver options:\n",
      "    https://scikit-learn.org/stable/modules/linear_model.html#logistic-regression\n",
      "  n_iter_i = _check_optimize_result(\n"
     ]
    },
    {
     "name": "stdout",
     "output_type": "stream",
     "text": [
      "\n",
      "Weights {0: 1, 1: 50}:\n",
      "              precision    recall  f1-score   support\n",
      "\n",
      "           0       0.99      0.75      0.85      6967\n",
      "           1       0.04      0.72      0.08       104\n",
      "\n",
      "    accuracy                           0.74      7071\n",
      "   macro avg       0.52      0.73      0.46      7071\n",
      "weighted avg       0.98      0.74      0.84      7071\n",
      "\n",
      "\n",
      "Weights {0: 1, 1: 75}:\n",
      "              precision    recall  f1-score   support\n",
      "\n",
      "           0       0.99      0.75      0.85      6967\n",
      "           1       0.04      0.72      0.08       104\n",
      "\n",
      "    accuracy                           0.74      7071\n",
      "   macro avg       0.52      0.73      0.46      7071\n",
      "weighted avg       0.98      0.74      0.84      7071\n",
      "\n"
     ]
    },
    {
     "name": "stderr",
     "output_type": "stream",
     "text": [
      "C:\\Users\\marka\\anaconda3\\Lib\\site-packages\\sklearn\\linear_model\\_logistic.py:465: ConvergenceWarning: lbfgs failed to converge (status=1):\n",
      "STOP: TOTAL NO. of ITERATIONS REACHED LIMIT.\n",
      "\n",
      "Increase the number of iterations (max_iter) or scale the data as shown in:\n",
      "    https://scikit-learn.org/stable/modules/preprocessing.html\n",
      "Please also refer to the documentation for alternative solver options:\n",
      "    https://scikit-learn.org/stable/modules/linear_model.html#logistic-regression\n",
      "  n_iter_i = _check_optimize_result(\n"
     ]
    }
   ],
   "source": [
    "# Try different class weights\n",
    "weights = [{0:1, 1:10}, {0:1, 1:25}, {0:1, 1:50}, {0:1, 1:75}]\n",
    "\n",
    "for weight in weights:\n",
    "    logreg_model = Pipeline([\n",
    "    ('preprocessor', preprocessor),\n",
    "    ('classifier', LogisticRegression(\n",
    "        class_weight='balanced',\n",
    "        max_iter=2000,  # High enough to ensure convergence\n",
    "        solver='saga',  # Most robust solver\n",
    "        tol=1e-3,       # Slightly looser tolerance\n",
    "        random_state=42\n",
    "    ))\n",
    "    ])\n",
    "    model.fit(X_train, y_train)\n",
    "    y_pred = model.predict(X_test)\n",
    "    print(f\"\\nWeights {weight}:\")\n",
    "    print(classification_report(y_test, y_pred))"
   ]
  },
  {
   "cell_type": "markdown",
   "id": "f6092c6d-69ac-4638-88be-fac67fb3fcd1",
   "metadata": {},
   "source": [
    "Untuk menghandling data imbalance maka dilakukan teknik different class weight dimana hasilnya recall lebih\n",
    "tinggi dari baseline model sebelumnya"
   ]
  },
  {
   "cell_type": "markdown",
   "id": "77f25ab0-653e-45b3-9809-47a3c5e832d9",
   "metadata": {},
   "source": [
    "Kesimpulan\n",
    "-"
   ]
  },
  {
   "cell_type": "markdown",
   "id": "db9441b1-5507-4a1a-a31f-3c134cd1cfc7",
   "metadata": {},
   "source": [
    "Logistic Regression setelah dilakukan pembobotan dengan class yang berbeda dapat meningkatkan recall"
   ]
  },
  {
   "cell_type": "markdown",
   "id": "269fc0e9-b348-449d-b138-44d49b6511c7",
   "metadata": {},
   "source": [
    "Rekomendasi\n",
    "-"
   ]
  },
  {
   "cell_type": "markdown",
   "id": "36b858a7-f9b4-4b06-bfe8-369f57731597",
   "metadata": {},
   "source": [
    "* **Kurangi False Positives:** Implementasikan cost-sensitive learning atau threshold tuning untuk menyeimbangkan recall dan presisi, mengurangi beban operasional akibat penanganan kasus non-klaim yang salah diprediksi.\n",
    "\n",
    "* **Tingkatkan Kualitas Data:** Lakukan pembersihan data lebih lanjut (misalnya, tangani usia tidak realistis seperti 0 atau 118) dan tambahkan fitur baru (contoh: indeks risiko destinasi) untuk meningkatkan akurasi prediksi.\n",
    "\n",
    "* **Validasi dan Generalisasi:** Uji model pada data eksternal atau skenario baru (misalnya, musim libur atau krisis) untuk memastikan performa stabil, menghindari kerugian akibat prediksi yang tidak akurat.\n",
    "\n",
    "* **Strategi Pelanggan:** Gunakan hasil prediksi untuk komunikasi proaktif dengan pelanggan berisiko tinggi, seperti menawarkan paket asuransi tambahan atau edukasi risiko, meningkatkan kepuasan dan retensi pelanggan."
   ]
  },
  {
   "cell_type": "code",
   "execution_count": 77,
   "id": "2bd2313a-13b6-4aa7-b37f-004243e6d9a8",
   "metadata": {},
   "outputs": [
    {
     "data": {
      "text/plain": [
       "['travel_insurance_model.pkl']"
      ]
     },
     "execution_count": 77,
     "metadata": {},
     "output_type": "execute_result"
    }
   ],
   "source": [
    "import joblib\n",
    "\n",
    "# 1. Save the trained model pipeline\n",
    "joblib.dump(model, 'travel_insurance_model.pkl')"
   ]
  },
  {
   "cell_type": "code",
   "execution_count": null,
   "id": "005d4322-1967-4384-9562-aac090a1da5b",
   "metadata": {},
   "outputs": [],
   "source": []
  }
 ],
 "metadata": {
  "kernelspec": {
   "display_name": "Python [conda env:base] *",
   "language": "python",
   "name": "conda-base-py"
  },
  "language_info": {
   "codemirror_mode": {
    "name": "ipython",
    "version": 3
   },
   "file_extension": ".py",
   "mimetype": "text/x-python",
   "name": "python",
   "nbconvert_exporter": "python",
   "pygments_lexer": "ipython3",
   "version": "3.12.7"
  }
 },
 "nbformat": 4,
 "nbformat_minor": 5
}
